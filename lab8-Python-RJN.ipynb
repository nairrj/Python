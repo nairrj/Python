{
 "cells": [
  {
   "cell_type": "markdown",
   "metadata": {},
   "source": [
    "# Lab 08: Functions"
   ]
  },
  {
   "cell_type": "markdown",
   "metadata": {},
   "source": [
    "## #1\n",
    "The formula for the circumference of a circle is *2 * pi * radius*.\n",
    "Write a function, `calculate_circumference`, that accepts a `radius` argument and returns the circumference of a circle with that radius.\n",
    "*Hint: use `pi` from the `math` library.*"
   ]
  },
  {
   "cell_type": "code",
   "execution_count": 12,
   "metadata": {},
   "outputs": [
    {
     "name": "stdout",
     "output_type": "stream",
     "text": [
      "Input the radius: 8\n",
      " Circumference Of a Circle = 50.26548245743669\n"
     ]
    }
   ],
   "source": [
    "def find_Circumference(radius):\n",
    "    from math import pi\n",
    "    return 2 * pi * radius\n",
    "\n",
    "r = float(input (\"Input the radius: \"))\n",
    "cir =  find_Circumference(r)\n",
    "print(\"Circumference Of a Circle = \" + str(cir))\n"
   ]
  },
  {
   "cell_type": "markdown",
   "metadata": {},
   "source": [
    "## #2\n",
    "Update your function from #1 -- make the radius parameter default to 1."
   ]
  },
  {
   "cell_type": "code",
   "execution_count": 14,
   "metadata": {},
   "outputs": [
    {
     "name": "stdout",
     "output_type": "stream",
     "text": [
      "Radius : 1\n",
      "Circumference Of a Circle = 6.283185307179586\n"
     ]
    }
   ],
   "source": [
    "def find_Circumference(radius):\n",
    "    from math import pi\n",
    "    return 2 * pi * radius\n",
    "\n",
    "cir =  find_Circumference(1)\n",
    "print(\"Radius : 1\")\n",
    "print(\"Circumference Of a Circle = \" + str(cir))"
   ]
  },
  {
   "cell_type": "markdown",
   "metadata": {},
   "source": [
    "## #3\n",
    "Create a list, `radii`, `[4, 83, 3.7, 9]`.\n",
    "Loop over these elements and use your function from #1 to check the circumference for each radius in that list."
   ]
  },
  {
   "cell_type": "code",
   "execution_count": 17,
   "metadata": {},
   "outputs": [
    {
     "name": "stdout",
     "output_type": "stream",
     "text": [
      "Radius :4\n",
      "Circumference Of a Circle = 25.132741228718345\n",
      "Radius :83\n",
      "Circumference Of a Circle = 521.5043804959057\n",
      "Radius :3.7\n",
      "Circumference Of a Circle = 23.24778563656447\n",
      "Radius :9\n",
      "Circumference Of a Circle = 56.548667764616276\n"
     ]
    }
   ],
   "source": [
    "radii = [4, 83, 3.7, 9]\n",
    "\n",
    "for i in radii: \n",
    "    find_Circumference(i)\n",
    "    cir =  find_Circumference(i)\n",
    "    print(\"Radius :\" + str(i))\n",
    "    print(\"Circumference Of a Circle = \" + str(cir))\n",
    "\n",
    "    "
   ]
  },
  {
   "cell_type": "markdown",
   "metadata": {},
   "source": [
    "## #4\n",
    "Rewrite your function from #1 (without a default argument) as a lambda function."
   ]
  },
  {
   "cell_type": "code",
   "execution_count": 22,
   "metadata": {},
   "outputs": [
    {
     "name": "stdout",
     "output_type": "stream",
     "text": [
      "Input the radius: 4\n"
     ]
    },
    {
     "data": {
      "text/plain": [
       "25.132741228718345"
      ]
     },
     "execution_count": 22,
     "metadata": {},
     "output_type": "execute_result"
    }
   ],
   "source": [
    "from math import pi\n",
    "r = float(input (\"Input the radius: \"))\n",
    "\n",
    "circumference = lambda radius : pi * 2 * radius\n",
    "circumference(r)"
   ]
  },
  {
   "cell_type": "markdown",
   "metadata": {},
   "source": [
    "## #5\n",
    "Repeat #3, but using your lambda function instead.\n",
    "Is anything different about your results?"
   ]
  },
  {
   "cell_type": "code",
   "execution_count": 26,
   "metadata": {},
   "outputs": [
    {
     "name": "stdout",
     "output_type": "stream",
     "text": [
      "Radius :4\n",
      "Circumference Of a Circle = 25.132741228718345\n",
      "Radius :83\n",
      "Circumference Of a Circle = 521.5043804959057\n",
      "Radius :3.7\n",
      "Circumference Of a Circle = 23.24778563656447\n",
      "Radius :9\n",
      "Circumference Of a Circle = 56.548667764616276\n"
     ]
    }
   ],
   "source": [
    "circumference = lambda radius : pi * 2 * radius\n",
    "radii = [4, 83, 3.7, 9]\n",
    "\n",
    "for i in radii: \n",
    "    print(\"Radius :\" + str(i))\n",
    "    cir = circumference(i)\n",
    "    print(\"Circumference Of a Circle = \" + str(cir))"
   ]
  },
  {
   "cell_type": "markdown",
   "metadata": {},
   "source": [
    "## #6\n",
    "Create a function `caller` that accepts two arguments: `func` and `target`.\n",
    "Implement the body of `caller` so that it takes calls the input function (`func`) on the input target (`target`) and returns the result.\n",
    "e.g. `caller(type, 7)` would be the same as `type(7)`, returning `int`."
   ]
  },
  {
   "cell_type": "code",
   "execution_count": 1,
   "metadata": {},
   "outputs": [
    {
     "data": {
      "text/plain": [
       "int"
      ]
     },
     "execution_count": 1,
     "metadata": {},
     "output_type": "execute_result"
    }
   ],
   "source": [
    "def caller(func,target):\n",
    "    return func(target)\n",
    "caller(type,7)"
   ]
  },
  {
   "cell_type": "markdown",
   "metadata": {},
   "source": [
    "## #7\n",
    "Create a function, `nan_filler`, that takes as arguments a DataFrame and a scalar value. Implement it to return a copy of that DataFrame with all `NaN`s replaced with the scalar value."
   ]
  },
  {
   "cell_type": "code",
   "execution_count": 3,
   "metadata": {},
   "outputs": [
    {
     "data": {
      "text/html": [
       "<div>\n",
       "<style scoped>\n",
       "    .dataframe tbody tr th:only-of-type {\n",
       "        vertical-align: middle;\n",
       "    }\n",
       "\n",
       "    .dataframe tbody tr th {\n",
       "        vertical-align: top;\n",
       "    }\n",
       "\n",
       "    .dataframe thead th {\n",
       "        text-align: right;\n",
       "    }\n",
       "</style>\n",
       "<table border=\"1\" class=\"dataframe\">\n",
       "  <thead>\n",
       "    <tr style=\"text-align: right;\">\n",
       "      <th></th>\n",
       "      <th>tailnum</th>\n",
       "      <th>year</th>\n",
       "      <th>type</th>\n",
       "      <th>manufacturer</th>\n",
       "      <th>model</th>\n",
       "      <th>engines</th>\n",
       "      <th>seats</th>\n",
       "      <th>speed</th>\n",
       "      <th>engine</th>\n",
       "    </tr>\n",
       "  </thead>\n",
       "  <tbody>\n",
       "    <tr>\n",
       "      <td>0</td>\n",
       "      <td>N10156</td>\n",
       "      <td>2004.0</td>\n",
       "      <td>Fixed wing multi engine</td>\n",
       "      <td>EMBRAER</td>\n",
       "      <td>EMB-145XR</td>\n",
       "      <td>2</td>\n",
       "      <td>55</td>\n",
       "      <td>2.0</td>\n",
       "      <td>Turbo-fan</td>\n",
       "    </tr>\n",
       "    <tr>\n",
       "      <td>1</td>\n",
       "      <td>N102UW</td>\n",
       "      <td>1998.0</td>\n",
       "      <td>Fixed wing multi engine</td>\n",
       "      <td>AIRBUS INDUSTRIE</td>\n",
       "      <td>A320-214</td>\n",
       "      <td>2</td>\n",
       "      <td>182</td>\n",
       "      <td>2.0</td>\n",
       "      <td>Turbo-fan</td>\n",
       "    </tr>\n",
       "    <tr>\n",
       "      <td>2</td>\n",
       "      <td>N103US</td>\n",
       "      <td>1999.0</td>\n",
       "      <td>Fixed wing multi engine</td>\n",
       "      <td>AIRBUS INDUSTRIE</td>\n",
       "      <td>A320-214</td>\n",
       "      <td>2</td>\n",
       "      <td>182</td>\n",
       "      <td>2.0</td>\n",
       "      <td>Turbo-fan</td>\n",
       "    </tr>\n",
       "    <tr>\n",
       "      <td>3</td>\n",
       "      <td>N104UW</td>\n",
       "      <td>1999.0</td>\n",
       "      <td>Fixed wing multi engine</td>\n",
       "      <td>AIRBUS INDUSTRIE</td>\n",
       "      <td>A320-214</td>\n",
       "      <td>2</td>\n",
       "      <td>182</td>\n",
       "      <td>2.0</td>\n",
       "      <td>Turbo-fan</td>\n",
       "    </tr>\n",
       "    <tr>\n",
       "      <td>4</td>\n",
       "      <td>N10575</td>\n",
       "      <td>2002.0</td>\n",
       "      <td>Fixed wing multi engine</td>\n",
       "      <td>EMBRAER</td>\n",
       "      <td>EMB-145LR</td>\n",
       "      <td>2</td>\n",
       "      <td>55</td>\n",
       "      <td>2.0</td>\n",
       "      <td>Turbo-fan</td>\n",
       "    </tr>\n",
       "  </tbody>\n",
       "</table>\n",
       "</div>"
      ],
      "text/plain": [
       "  tailnum    year                     type      manufacturer      model  \\\n",
       "0  N10156  2004.0  Fixed wing multi engine           EMBRAER  EMB-145XR   \n",
       "1  N102UW  1998.0  Fixed wing multi engine  AIRBUS INDUSTRIE   A320-214   \n",
       "2  N103US  1999.0  Fixed wing multi engine  AIRBUS INDUSTRIE   A320-214   \n",
       "3  N104UW  1999.0  Fixed wing multi engine  AIRBUS INDUSTRIE   A320-214   \n",
       "4  N10575  2002.0  Fixed wing multi engine           EMBRAER  EMB-145LR   \n",
       "\n",
       "   engines  seats  speed     engine  \n",
       "0        2     55    2.0  Turbo-fan  \n",
       "1        2    182    2.0  Turbo-fan  \n",
       "2        2    182    2.0  Turbo-fan  \n",
       "3        2    182    2.0  Turbo-fan  \n",
       "4        2     55    2.0  Turbo-fan  "
      ]
     },
     "execution_count": 3,
     "metadata": {},
     "output_type": "execute_result"
    }
   ],
   "source": [
    "import numpy as np\n",
    "def nan_filler(df,x):\n",
    "    df_new = df.replace(to_replace = np.nan,value = x) \n",
    "    return df_new\n",
    "    \n",
    "import pandas as pd\n",
    "planes = pd.read_csv('C:/Users/rohit/Downloads/intro-python-datasci-master/intro-python-datasci-master/data/planes.csv')\n",
    "planes_clean = nan_filler(planes,2)\n",
    "planes_clean.head()"
   ]
  },
  {
   "cell_type": "markdown",
   "metadata": {},
   "source": [
    "## #8\n",
    "Copy the below function defintion to your notebook and try calling it with different inputs.\n",
    "Pass it a single positional argument, several positional arguments, a single keyword argument, several keyword arguments, and then a mix of positional and keyword arguments.\n",
    "Form a hypothesis about how `*args` and `**kwargs` work.\n",
    "```python\n",
    "def weird_func(*args, **kwargs):\n",
    "    print('args', args)\n",
    "    print('kwargs', kwargs)\n",
    "```"
   ]
  },
  {
   "cell_type": "code",
   "execution_count": 4,
   "metadata": {},
   "outputs": [],
   "source": [
    "def weird_func(*args, **kwargs):\n",
    "    print('args', args)\n",
    "    print('kwargs', kwargs)"
   ]
  },
  {
   "cell_type": "code",
   "execution_count": 5,
   "metadata": {},
   "outputs": [
    {
     "name": "stdout",
     "output_type": "stream",
     "text": [
      "args (5,)\n",
      "kwargs {}\n"
     ]
    }
   ],
   "source": [
    "weird_func(5)"
   ]
  },
  {
   "cell_type": "code",
   "execution_count": 6,
   "metadata": {},
   "outputs": [
    {
     "name": "stdout",
     "output_type": "stream",
     "text": [
      "args (1, 5)\n",
      "kwargs {'one': 1}\n"
     ]
    }
   ],
   "source": [
    "weird_func(1,5, one = 1)"
   ]
  },
  {
   "cell_type": "code",
   "execution_count": 7,
   "metadata": {},
   "outputs": [
    {
     "name": "stdout",
     "output_type": "stream",
     "text": [
      "args ()\n",
      "kwargs {'one': 1, 'five': 5}\n"
     ]
    }
   ],
   "source": [
    "weird_func(one = 1, five = 5)"
   ]
  },
  {
   "cell_type": "markdown",
   "metadata": {},
   "source": [
    "*args are a special syntax in python to pass a variable number of arguments to a function without any keywords. With *args, we can input variable arguments without having to specify different arguments for each in the function name and definition.\n",
    "**kwargs are another type of special syntax in python to pass a keyworded, variable length argument list. It is used for passing keyworded arguments.\n",
    "Thus we can conclude that args is used to pass a variable number of args without having to specify them in the function and kwargs is similar but for keyword arguments."
   ]
  }
 ],
 "metadata": {
  "kernelspec": {
   "display_name": "Python 3",
   "language": "python",
   "name": "python3"
  },
  "language_info": {
   "codemirror_mode": {
    "name": "ipython",
    "version": 3
   },
   "file_extension": ".py",
   "mimetype": "text/x-python",
   "name": "python",
   "nbconvert_exporter": "python",
   "pygments_lexer": "ipython3",
   "version": "3.7.4"
  }
 },
 "nbformat": 4,
 "nbformat_minor": 4
}
